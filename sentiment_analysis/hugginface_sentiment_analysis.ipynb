{
 "cells": [
  {
   "cell_type": "markdown",
   "id": "0aef1efe-a9b0-4058-8889-c8d9abd5b2af",
   "metadata": {},
   "source": [
    "# Sentiment analysis using HuggingFace transformers and cuda GPU\n",
    "## Pre-trained model used: https://huggingface.co/distilbert/distilbert-base-uncased-finetuned-sst-2-english\n",
    "## Sentiment analysis performed on top 20 play store app "
   ]
  },
  {
   "cell_type": "code",
   "execution_count": 1,
   "id": "45c616cc-d82a-4ef8-9cc3-5f6a1951094d",
   "metadata": {},
   "outputs": [],
   "source": [
    "import os\n",
    "import pandas as pd\n",
    "import torch\n",
    "import matplotlib.pyplot as plt\n",
    "from transformers import pipeline\n",
    "from transformers import DistilBertTokenizer, DistilBertForSequenceClassification"
   ]
  },
  {
   "cell_type": "code",
   "execution_count": 2,
   "id": "fb57a847-a598-49a1-90fd-450628d03d70",
   "metadata": {},
   "outputs": [
    {
     "data": {
      "text/plain": [
       "True"
      ]
     },
     "execution_count": 2,
     "metadata": {},
     "output_type": "execute_result"
    }
   ],
   "source": [
    "torch.cuda.is_available()"
   ]
  },
  {
   "cell_type": "code",
   "execution_count": 3,
   "id": "addb5256-c226-42ef-88ba-1120e162e7e4",
   "metadata": {},
   "outputs": [
    {
     "name": "stderr",
     "output_type": "stream",
     "text": [
      "/home/el/miniconda3/envs/tf/lib/python3.9/site-packages/transformers/tokenization_utils_base.py:1601: FutureWarning: `clean_up_tokenization_spaces` was not set. It will be set to `True` by default. This behavior will be depracted in transformers v4.45, and will be then set to `False` by default. For more details check this issue: https://github.com/huggingface/transformers/issues/31884\n",
      "  warnings.warn(\n"
     ]
    }
   ],
   "source": [
    "# Initialize tokenizer and model\n",
    "tokenizer = DistilBertTokenizer.from_pretrained(\"distilbert-base-uncased-finetuned-sst-2-english\")\n",
    "model = DistilBertForSequenceClassification.from_pretrained(\"distilbert-base-uncased-finetuned-sst-2-english\")\n",
    "nlp = pipeline('sentiment-analysis', model=model, tokenizer=tokenizer, device = 0)"
   ]
  },
  {
   "cell_type": "code",
   "execution_count": 4,
   "id": "c8b245f1-29b7-44b4-ab36-f4b435ee446a",
   "metadata": {},
   "outputs": [],
   "source": [
    "# Directory containing CSV files\n",
    "directory = '/home/el/Documents/workspace/sentiment_analysis'\n",
    "\n",
    "# Dictionary to store sentiment counts for each file\n",
    "sentiment_summary = {}"
   ]
  },
  {
   "cell_type": "code",
   "execution_count": null,
   "id": "f863fc3e-0a2e-4c07-bc3f-4c8798117d6b",
   "metadata": {
    "scrolled": true
   },
   "outputs": [
    {
     "name": "stdout",
     "output_type": "stream",
     "text": [
      "Processing Facebook Lite.csv...\n",
      "Processing Snapchat.csv...\n",
      "Processing Viber.csv...\n",
      "Processing Dropbox.csv...\n",
      "Processing Flipboard.csv...\n",
      "Processing Subway Surfers.csv...\n",
      "Processing Microsoft Word.csv...\n",
      "Processing Microsoft PowerPoint.csv...\n",
      "Processing WhatsApp.csv...\n",
      "Processing Twitter.csv...\n"
     ]
    },
    {
     "name": "stderr",
     "output_type": "stream",
     "text": [
      "You seem to be using the pipelines sequentially on GPU. In order to maximize efficiency please use a dataset\n"
     ]
    },
    {
     "name": "stdout",
     "output_type": "stream",
     "text": [
      "Processing TikTok.csv...\n",
      "Processing Instagram.csv...\n",
      "Processing Candy Crush Saga.csv...\n",
      "Processing Spotify.csv...\n",
      "Processing LINE.csv...\n",
      "Processing Netflix.csv...\n",
      "Processing SHAREit.csv...\n",
      "Processing Facebook Messenger.csv...\n"
     ]
    }
   ],
   "source": [
    "# Loop through each CSV file in the directory\n",
    "for filename in os.listdir(directory):\n",
    "    if filename.endswith('.csv'):\n",
    "        filepath = os.path.join(directory, filename)\n",
    "        print(f'Processing {filename}...')\n",
    "        \n",
    "        try:\n",
    "            # Load CSV file\n",
    "            df = pd.read_csv(filepath)\n",
    "            df = df.dropna(subset=['content'])\n",
    "            df['content'] = df['content'].astype(str)\n",
    "            \n",
    "            # Run sentiment analysis\n",
    "            texts = df['content'].values.tolist()\n",
    "            results = nlp(texts)\n",
    "            \n",
    "            # Count positive and negative sentiments\n",
    "            sentiments = [result['label'] for result in results]\n",
    "            sentiment_counts = pd.Series(sentiments).value_counts()\n",
    "            \n",
    "            # Store sentiment summary for this file\n",
    "            sentiment_summary[filename] = {\n",
    "                'positive': sentiment_counts.get('POSITIVE', 0),\n",
    "                'negative': sentiment_counts.get('NEGATIVE', 0)\n",
    "            }\n",
    "\n",
    "        except FileNotFoundError:\n",
    "            # Handle the case where the file is missing\n",
    "            print(f\"Error: {filename} not found.\")\n",
    "\n",
    "        except Exception as e:\n",
    "            # Handle any other errors (e.g., data loading/processing issues)\n",
    "            print(f\"Error processing {filename}: {str(e)}\")\n"
   ]
  },
  {
   "cell_type": "code",
   "execution_count": null,
   "id": "d380bd62-d31b-4d9a-ac43-dbba930b0056",
   "metadata": {},
   "outputs": [],
   "source": [
    "# Convert the sentiment summary dictionary to a DataFrame for plotting\n",
    "summary_df = pd.DataFrame.from_dict(sentiment_summary, orient='index')\n",
    "summary_df.to_csv('sentiment_summary.csv', index=True)"
   ]
  },
  {
   "cell_type": "code",
   "execution_count": null,
   "id": "42c9f8ad-ba4a-4fc7-8796-6f911740de7b",
   "metadata": {},
   "outputs": [],
   "source": [
    "# Plot the sentiment counts as a barplot\n",
    "summary_df.plot(kind='bar', stacked=True, figsize=(12, 8))\n",
    "plt.title('Sentiment Counts by File')\n",
    "plt.xlabel('File')\n",
    "plt.ylabel('Count')\n",
    "plt.xticks(rotation=90)\n",
    "plt.legend(title='Sentiment')\n",
    "plt.tight_layout()\n",
    "plt.show()"
   ]
  }
 ],
 "metadata": {
  "kernelspec": {
   "display_name": "Python 3 (ipykernel)",
   "language": "python",
   "name": "python3"
  },
  "language_info": {
   "codemirror_mode": {
    "name": "ipython",
    "version": 3
   },
   "file_extension": ".py",
   "mimetype": "text/x-python",
   "name": "python",
   "nbconvert_exporter": "python",
   "pygments_lexer": "ipython3",
   "version": "3.9.19"
  }
 },
 "nbformat": 4,
 "nbformat_minor": 5
}
